{
 "cells": [
  {
   "cell_type": "code",
   "execution_count": 2,
   "id": "dfbe6826",
   "metadata": {},
   "outputs": [],
   "source": [
    "import os\n",
    "import h5py\n",
    "from PIL import Image\n",
    "\n",
    "mat_dir = \"C:\\\\Users\\\\JAMES\\\\Downloads\\\\BrainTumourData\"\n",
    "output_dir = \"C:\\\\Users\\\\JAMES\\\\Downloads\\\\ProcessedImages\"\n",
    "\n",
    "# Create output directories for each class if they don't exist\n",
    "class_directories = ['meningioma', 'glioma', 'pituitary']\n",
    "for class_dir in class_directories:\n",
    "    class_path = os.path.join(output_dir, class_dir)\n",
    "    if not os.path.exists(class_path):\n",
    "        os.makedirs(class_path)\n",
    "\n",
    "for filename in os.listdir(mat_dir):\n",
    "    if filename.endswith('.mat'):\n",
    "        # Load the MAT file using h5py\n",
    "        mat_data = h5py.File(os.path.join(mat_dir, filename), 'r')\n",
    "        \n",
    "        # Extract the necessary fields from the MAT file\n",
    "        label = mat_data['cjdata']['label'][0, 0]\n",
    "        image_data = mat_data['cjdata']['image'][()]\n",
    "        \n",
    "        # Normalize image data\n",
    "        image_data = (image_data - np.min(image_data)) / (np.max(image_data) - np.min(image_data))\n",
    "        image_data = (image_data * 255).astype(np.uint8)\n",
    "        \n",
    "        # Convert the image data to a PIL Image object\n",
    "        image = Image.fromarray(image_data)\n",
    "        \n",
    "        # Convert image to RGB mode if it's not already\n",
    "        if image.mode != 'RGB':\n",
    "            image = image.convert('RGB')\n",
    "        \n",
    "        # Set the output file path and name with the attached label\n",
    "        label_str = \"\"\n",
    "        if label == 1:\n",
    "            label_str = \"meningioma\"\n",
    "        elif label == 2:\n",
    "            label_str = \"glioma\"\n",
    "        elif label == 3:\n",
    "            label_str = \"pituitary\"\n",
    "        \n",
    "        output_filename = f\"{filename.split('.')[0]}_{label_str}.jpg\"\n",
    "        output_path = os.path.join(output_dir, label_str, output_filename)\n",
    "        \n",
    "        # Save the image in the corresponding class directory\n",
    "        image.save(output_path)"
   ]
  }
 ],
 "metadata": {
  "kernelspec": {
   "display_name": "Python 3 (ipykernel)",
   "language": "python",
   "name": "python3"
  },
  "language_info": {
   "codemirror_mode": {
    "name": "ipython",
    "version": 3
   },
   "file_extension": ".py",
   "mimetype": "text/x-python",
   "name": "python",
   "nbconvert_exporter": "python",
   "pygments_lexer": "ipython3",
   "version": "3.9.13"
  }
 },
 "nbformat": 4,
 "nbformat_minor": 5
}
